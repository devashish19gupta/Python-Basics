{
 "cells": [
  {
   "cell_type": "markdown",
   "id": "245e4aa9",
   "metadata": {},
   "source": [
    "# Introduction to Python Functions"
   ]
  },
  {
   "cell_type": "markdown",
   "id": "51421425",
   "metadata": {},
   "source": [
    "## What are Functions?<br><br>\n",
    "<font size = '4'>\n",
    "- Functions are reusable blocks of code that perform a specific task.<br><br>\n",
    "- They allow you to break down complex problems into smaller, manageable chunks.<br><br>\n",
    "- Functions help in organizing your code, making it modular, reusable, and easier to debug."
   ]
  },
  {
   "cell_type": "markdown",
   "id": "74acf3f2",
   "metadata": {},
   "source": [
    "## Why Use Functions?<br><br>\n",
    "<font size = '4'>\n",
    "- <b> 1. Modularity:</b> Break down large problems into smaller functions.<br><br>\n",
    "- <b> 2. Reusability:</b>  Write once, reuse multiple times.<br><br>\n",
    "- <b> 3. Maintainability:</b>  Easier to update and maintain code.<br><br>\n",
    "- <b> 4. Abstraction:</b>  Hide complex logic inside a function, providing a simple interface."
   ]
  },
  {
   "cell_type": "markdown",
   "id": "ed88c55f",
   "metadata": {},
   "source": [
    "### 1. Modularity: Breaking Down Large Problems into Smaller Functions\n",
    "Modularity refers to the practice of dividing a large program or problem into smaller, manageable, and more understandable pieces, usually functions. This makes the code easier to read, test, and maintain."
   ]
  },
  {
   "cell_type": "markdown",
   "id": "9bd23c80",
   "metadata": {},
   "source": [
    "#### Example:\n",
    "Let's say we want to write a program that processes a list of students' scores, calculates the average, and determines if the average score is passing."
   ]
  },
  {
   "cell_type": "code",
   "execution_count": 1,
   "id": "d66f48ca",
   "metadata": {},
   "outputs": [
    {
     "name": "stdout",
     "output_type": "stream",
     "text": [
      "Pass\n"
     ]
    }
   ],
   "source": [
    "# Without Modularity:\n",
    "\n",
    "scores = [75, 85, 90, 70, 80]\n",
    "\n",
    "# Process scores, calculate average, and determine passing\n",
    "total = sum(scores)\n",
    "average = total / len(scores)\n",
    "\n",
    "if average >= 75:\n",
    "    print(\"Pass\")\n",
    "else:\n",
    "    print(\"Fail\")"
   ]
  },
  {
   "cell_type": "code",
   "execution_count": 2,
   "id": "7c3644cc",
   "metadata": {},
   "outputs": [
    {
     "name": "stdout",
     "output_type": "stream",
     "text": [
      "Pass\n"
     ]
    }
   ],
   "source": [
    "# With Modularity:\n",
    "\n",
    "def calculate_total(scores):\n",
    "    \"\"\"\n",
    "    Calculates the total of a list of scores.\n",
    "    \"\"\"\n",
    "    return sum(scores)\n",
    "\n",
    "def calculate_average(total, count):\n",
    "    \"\"\"\n",
    "    Calculates the average given the total and count of scores.\n",
    "    \"\"\"\n",
    "    return total / count\n",
    "\n",
    "def is_passing(average):\n",
    "    \"\"\"\n",
    "    Determines if the average score is passing.\n",
    "    \"\"\"\n",
    "    return average >= 75\n",
    "\n",
    "# Main logic using modular functions\n",
    "scores = [75, 85, 90, 70, 80]\n",
    "total = calculate_total(scores)\n",
    "average = calculate_average(total, len(scores))\n",
    "result = is_passing(average)\n",
    "\n",
    "print(\"Pass\" if result else \"Fail\")\n"
   ]
  },
  {
   "cell_type": "markdown",
   "id": "09c2abbe",
   "metadata": {},
   "source": [
    "#### Explanation:\n",
    "The program is divided into three functions, each handling a specific task:\n",
    "- calculate_total(scores): Handles the summing of scores.\n",
    "- calculate_average(total, count): Computes the average.\n",
    "- is_passing(average): Determines if the average score is a pass.\n",
    "<br><br>This makes the code more readable and easier to modify."
   ]
  },
  {
   "cell_type": "markdown",
   "id": "4c51ae13",
   "metadata": {},
   "source": [
    "### 2. Reusability: Write Once, Reuse Multiple Times"
   ]
  },
  {
   "cell_type": "markdown",
   "id": "af53b607",
   "metadata": {},
   "source": [
    "Reusability is the ability to use existing code (functions) in different parts of a program or in different programs without rewriting the code."
   ]
  },
  {
   "cell_type": "markdown",
   "id": "440abce3",
   "metadata": {},
   "source": [
    "#### Example:\n",
    "Suppose we have a function that checks if a number is even. We can reuse this function whenever we need to perform this check.\n",
    "\n"
   ]
  },
  {
   "cell_type": "code",
   "execution_count": 5,
   "id": "8f496663",
   "metadata": {},
   "outputs": [],
   "source": [
    "# Reusable Function:\n",
    "\n",
    "def is_even(number):\n",
    "    \"\"\"\n",
    "    Returns True if the number is even, False otherwise.\n",
    "    \"\"\"\n",
    "    return number % 2 == 0\n"
   ]
  },
  {
   "cell_type": "code",
   "execution_count": 6,
   "id": "f6eb7fd3",
   "metadata": {},
   "outputs": [
    {
     "name": "stdout",
     "output_type": "stream",
     "text": [
      "Even numbers: [10, 20, 30]\n",
      "Is 42 even? True\n"
     ]
    }
   ],
   "source": [
    "# Using the Reusable Function:\n",
    "\n",
    "# Reusing the is_even function\n",
    "numbers = [10, 15, 20, 25, 30]\n",
    "even_numbers = [num for num in numbers if is_even(num)]\n",
    "\n",
    "print(\"Even numbers:\", even_numbers)\n",
    "\n",
    "# Another use case\n",
    "single_number = 42\n",
    "print(\"Is 42 even?\", is_even(single_number))\n"
   ]
  },
  {
   "cell_type": "markdown",
   "id": "6575d11d",
   "metadata": {},
   "source": [
    "#### Explanation:\n",
    "The is_even function is defined once and used multiple times in different contexts.\n",
    "This avoids code duplication and reduces the chances of errors.\n"
   ]
  },
  {
   "cell_type": "markdown",
   "id": "3d162cde",
   "metadata": {},
   "source": [
    "### 3. Maintainability: Easier to Update and Maintain Code"
   ]
  },
  {
   "cell_type": "markdown",
   "id": "0d76b7f0",
   "metadata": {},
   "source": [
    "Maintainability refers to how easily the code can be updated or modified without introducing errors. Well-structured functions make the code easier to maintain."
   ]
  },
  {
   "cell_type": "markdown",
   "id": "a9bfc399",
   "metadata": {},
   "source": [
    "#### Example:\n",
    "Imagine a function that calculates the area of a rectangle. Later, you need to modify it to handle squares as well."
   ]
  },
  {
   "cell_type": "code",
   "execution_count": 7,
   "id": "d4776412",
   "metadata": {},
   "outputs": [],
   "source": [
    "# Orignal Function:\n",
    "\n",
    "def rectangle_area(length, width):\n",
    "    \"\"\"\n",
    "    Calculates the area of a rectangle.\n",
    "    \"\"\"\n",
    "    return length * width"
   ]
  },
  {
   "cell_type": "code",
   "execution_count": 8,
   "id": "ed65260b",
   "metadata": {},
   "outputs": [],
   "source": [
    "# Updated Function for Better Maintainability:\n",
    "\n",
    "def calculate_area(length, width=None):\n",
    "    \"\"\"\n",
    "    Calculates the area of a rectangle or square.\n",
    "    If only one argument is provided, assumes it's a square.\n",
    "    \"\"\"\n",
    "    if width is None:\n",
    "        width = length  # It's a square\n",
    "    return length * width"
   ]
  },
  {
   "cell_type": "code",
   "execution_count": 9,
   "id": "c684d5a6",
   "metadata": {},
   "outputs": [
    {
     "name": "stdout",
     "output_type": "stream",
     "text": [
      "Rectangle area: 50\n",
      "Square area: 49\n"
     ]
    }
   ],
   "source": [
    "# Usage:\n",
    "\n",
    "# Rectangle area\n",
    "print(\"Rectangle area:\", calculate_area(5, 10))\n",
    "\n",
    "# Square area\n",
    "print(\"Square area:\", calculate_area(7))"
   ]
  },
  {
   "cell_type": "markdown",
   "id": "60900427",
   "metadata": {},
   "source": [
    "#### Explanation:\n",
    "- The original rectangle_area function was limited to rectangles only.\n",
    "- The updated calculate_area function handles both rectangles and squares.\n",
    "<br>This makes future modifications easier, improving maintainability.\n"
   ]
  },
  {
   "cell_type": "markdown",
   "id": "ffae2375",
   "metadata": {},
   "source": [
    "### 4. Abstraction: Hiding Complex Logic Inside a Function, Providing a Simple Interface\n",
    "\n",
    "Abstraction is the concept of hiding the complex implementation details of a function, exposing only the necessary interface. Users of the function don’t need to know how it works, only how to use it.\n",
    "\n"
   ]
  },
  {
   "cell_type": "markdown",
   "id": "a8a0a9b7",
   "metadata": {},
   "source": [
    "#### Example:\n",
    "Let's create a function to validate an email address. The user doesn't need to know the complex validation logic, just that the function returns True or False."
   ]
  },
  {
   "cell_type": "code",
   "execution_count": 10,
   "id": "fa91ce03",
   "metadata": {},
   "outputs": [],
   "source": [
    "# Complex Logic Abstracted in a Function:\n",
    "\n",
    "import re\n",
    "\n",
    "def is_valid_email(email):\n",
    "    \"\"\"\n",
    "    Validates an email address using a regular expression.\n",
    "    Returns True if the email is valid, False otherwise.\n",
    "    \"\"\"\n",
    "    pattern = r'^[a-zA-Z0-9_.+-]+@[a-zA-Z0-9-]+\\.[a-zA-Z0-9-.]+$'\n",
    "    return re.match(pattern, email) is not None"
   ]
  },
  {
   "cell_type": "code",
   "execution_count": 11,
   "id": "fb08d605",
   "metadata": {},
   "outputs": [
    {
     "name": "stdout",
     "output_type": "stream",
     "text": [
      "example@domain.com is a valid email address.\n"
     ]
    }
   ],
   "source": [
    "# Using the Abstracted Function:\n",
    "\n",
    "email = \"example@domain.com\"\n",
    "if is_valid_email(email):\n",
    "    print(f\"{email} is a valid email address.\")\n",
    "else:\n",
    "    print(f\"{email} is not a valid email address.\")"
   ]
  },
  {
   "cell_type": "markdown",
   "id": "dc5286ee",
   "metadata": {},
   "source": [
    "#### Explanation:\n",
    "- The is_valid_email function abstracts the complex regular expression logic for email validation.\n",
    "- Users only need to know that the function returns True if the email is valid and False otherwise.\n",
    "- This abstraction simplifies the use of the function and hides the complexity.\n"
   ]
  },
  {
   "cell_type": "code",
   "execution_count": null,
   "id": "154821aa",
   "metadata": {},
   "outputs": [],
   "source": []
  }
 ],
 "metadata": {
  "kernelspec": {
   "display_name": "Python 3 (ipykernel)",
   "language": "python",
   "name": "python3"
  },
  "language_info": {
   "codemirror_mode": {
    "name": "ipython",
    "version": 3
   },
   "file_extension": ".py",
   "mimetype": "text/x-python",
   "name": "python",
   "nbconvert_exporter": "python",
   "pygments_lexer": "ipython3",
   "version": "3.11.5"
  }
 },
 "nbformat": 4,
 "nbformat_minor": 5
}
