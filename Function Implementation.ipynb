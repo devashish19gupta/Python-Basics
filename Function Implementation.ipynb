{
 "cells": [
  {
   "cell_type": "markdown",
   "id": "4c1fa380",
   "metadata": {},
   "source": [
    "# Function Implementation"
   ]
  },
  {
   "cell_type": "markdown",
   "id": "307d8247",
   "metadata": {},
   "source": [
    "## 2. Defining a Simple Function\n"
   ]
  },
  {
   "cell_type": "code",
   "execution_count": 1,
   "id": "de08ae6e",
   "metadata": {},
   "outputs": [],
   "source": [
    "def function_name(parameters):\n",
    "    \"\"\"\n",
    "    Docstring: A brief description of what the function does.\n",
    "    \"\"\"\n",
    "    # Function body: The block of code that performs the task\n",
    "    return value  # Optional return statement"
   ]
  },
  {
   "cell_type": "markdown",
   "id": "62063b61",
   "metadata": {},
   "source": [
    "### Key Components:<br><br>\n",
    "<font size = 4>\n",
    "- def: Keyword used to define a function.<br><br>\n",
    "- function_name: The name of the function, which should be descriptive.<br><br>\n",
    "- parameters: Inputs to the function (optional).<br><br>\n",
    "- Docstring: A multi-line string describing what the function does (optional but recommended).<br><br>\n",
    "- Function body: The code that performs the task.<br><br>\n",
    "- return: Sends back a value to the caller (optional).\n"
   ]
  },
  {
   "cell_type": "markdown",
   "id": "98171b5b",
   "metadata": {},
   "source": [
    "### Example:\n"
   ]
  },
  {
   "cell_type": "code",
   "execution_count": 2,
   "id": "8eeb91c6",
   "metadata": {},
   "outputs": [],
   "source": [
    "def greet(name):\n",
    "    \"\"\"\n",
    "    This function takes a name as input and prints a greeting.\n",
    "    \"\"\"\n",
    "    print(f\"Hello, {name}!\")"
   ]
  },
  {
   "cell_type": "markdown",
   "id": "7b3a0e88",
   "metadata": {},
   "source": [
    "#### Explanation:<br><br>\n",
    "<font size = 4>\n",
    "- greet(name): Function name is greet, and it takes one parameter name.<br><br>\n",
    "- Docstring: Provides information about what the function does.<br><br>\n",
    "- print(f\"Hello, {name}!\"): Prints a greeting message using the name provided as input."
   ]
  },
  {
   "cell_type": "markdown",
   "id": "858ff83f",
   "metadata": {},
   "source": [
    "## Calling the Function:\n"
   ]
  },
  {
   "cell_type": "code",
   "execution_count": 3,
   "id": "168ff71e",
   "metadata": {},
   "outputs": [
    {
     "name": "stdout",
     "output_type": "stream",
     "text": [
      "Hello, Devashish!\n"
     ]
    }
   ],
   "source": [
    "greet(\"Devashish\")"
   ]
  },
  {
   "cell_type": "markdown",
   "id": "a1cf275f",
   "metadata": {},
   "source": [
    "## 3. The Return Statement"
   ]
  },
  {
   "cell_type": "markdown",
   "id": "1adf34cf",
   "metadata": {},
   "source": [
    "### What is the Return Statement?\n",
    "- The return statement is used to exit a function and send back a value to the caller.<br><br>\n",
    "- A function can return any type of value: numbers, strings, lists, dictionaries, etc.<br><br>\n"
   ]
  },
  {
   "cell_type": "code",
   "execution_count": 4,
   "id": "b6a36839",
   "metadata": {},
   "outputs": [],
   "source": [
    "def function_name(parameters):\n",
    "    # Function body\n",
    "    return value  # Value is returned to the caller"
   ]
  },
  {
   "cell_type": "code",
   "execution_count": 5,
   "id": "50c57fb4",
   "metadata": {},
   "outputs": [],
   "source": [
    "# Example\n",
    "def add(a, b):\n",
    "    \"\"\"\n",
    "    This function returns the sum of two numbers.\n",
    "    \"\"\"\n",
    "    return a + b"
   ]
  },
  {
   "cell_type": "markdown",
   "id": "04dbe410",
   "metadata": {},
   "source": [
    "### Explanation:\n",
    "- return a + b: The function computes the sum of a and b and returns the result to the caller."
   ]
  },
  {
   "cell_type": "markdown",
   "id": "83aa762c",
   "metadata": {},
   "source": [
    "### Using the Return Value:"
   ]
  },
  {
   "cell_type": "code",
   "execution_count": 6,
   "id": "b23e824d",
   "metadata": {},
   "outputs": [
    {
     "name": "stdout",
     "output_type": "stream",
     "text": [
      "15\n"
     ]
    }
   ],
   "source": [
    "result = add(10, 5)\n",
    "print(result)"
   ]
  },
  {
   "cell_type": "markdown",
   "id": "5dc4bfb9",
   "metadata": {},
   "source": [
    "## 4. Default Parameters"
   ]
  },
  {
   "cell_type": "markdown",
   "id": "e0c7134c",
   "metadata": {},
   "source": [
    "### What are Default Parameters?\n",
    "- Default parameters allow you to specify default values for function arguments.<br><br>\n",
    "- If an argument is not provided during the function call, the default value is used."
   ]
  },
  {
   "cell_type": "code",
   "execution_count": null,
   "id": "477e87a3",
   "metadata": {},
   "outputs": [],
   "source": [
    "# Syntax:\n",
    "def function_name(parameter=default_value):\n",
    "    # Function body"
   ]
  },
  {
   "cell_type": "markdown",
   "id": "0f8381a2",
   "metadata": {},
   "source": [
    "### Example:"
   ]
  },
  {
   "cell_type": "code",
   "execution_count": 9,
   "id": "1bc3820b",
   "metadata": {},
   "outputs": [],
   "source": [
    "def greet(name=\"Guest\"):\n",
    "    \"\"\"\n",
    "    This function greets the user. If no name is provided, it greets 'Guest'.\n",
    "    \"\"\"\n",
    "    print(f\"Hello, {name}!\")"
   ]
  },
  {
   "cell_type": "code",
   "execution_count": null,
   "id": "ff614227",
   "metadata": {},
   "outputs": [],
   "source": []
  },
  {
   "cell_type": "markdown",
   "id": "8bd475ca",
   "metadata": {},
   "source": [
    "### Explanation:\n",
    "- name=\"Guest\": The parameter name has a default value of \"Guest\"."
   ]
  },
  {
   "cell_type": "markdown",
   "id": "8e9fd440",
   "metadata": {},
   "source": [
    "- greet() will print Hello, Guest!\n",
    "- greet(\"Devashish\") will print Hello, Devashish!"
   ]
  },
  {
   "cell_type": "code",
   "execution_count": 10,
   "id": "73acd193",
   "metadata": {},
   "outputs": [
    {
     "name": "stdout",
     "output_type": "stream",
     "text": [
      "Hello, Guest!\n",
      "Hello, Devashish!\n"
     ]
    }
   ],
   "source": [
    "greet()\n",
    "greet(\"Devashish\")"
   ]
  },
  {
   "cell_type": "code",
   "execution_count": null,
   "id": "e8b542cc",
   "metadata": {},
   "outputs": [],
   "source": []
  }
 ],
 "metadata": {
  "kernelspec": {
   "display_name": "Python 3 (ipykernel)",
   "language": "python",
   "name": "python3"
  },
  "language_info": {
   "codemirror_mode": {
    "name": "ipython",
    "version": 3
   },
   "file_extension": ".py",
   "mimetype": "text/x-python",
   "name": "python",
   "nbconvert_exporter": "python",
   "pygments_lexer": "ipython3",
   "version": "3.11.5"
  }
 },
 "nbformat": 4,
 "nbformat_minor": 5
}
