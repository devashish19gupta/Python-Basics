{
 "cells": [
  {
   "cell_type": "markdown",
   "id": "62f8d1e7",
   "metadata": {},
   "source": [
    "# Interview Questions - Python Functions"
   ]
  },
  {
   "cell_type": "markdown",
   "id": "4166438f",
   "metadata": {},
   "source": [
    "<b>Basic Questions:</b>\n",
    "- What is a function in Python?\n",
    "    - A function is a reusable block of code that performs a specific task.\n",
    "\n",
    "- How do you define a function in Python?\n",
    "    - A function is defined using the def keyword, followed by the function name and parentheses.\n",
    "\n",
    "- What is the purpose of the return statement in a function?\n",
    "    - The return statement exits the function and optionally sends a value back to the caller.\n",
    "\n",
    "- What are default arguments in Python?\n",
    "    - Default arguments are parameters that assume a default value if no argument is provided during the function call.\n",
    "\n",
    "- What are keyword arguments?\n",
    "    - Keyword arguments are arguments that are passed to a function by explicitly specifying the parameter name.\n",
    "\n",
    "- What is the difference between *args and **kwargs?\n",
    "    - *args allows a function to accept any number of positional arguments, while **kwargs allows for keyword arguments.\n",
    "\n",
    "- What is a lambda function?\n",
    "    - A lambda function is an anonymous, single-expression function often used for short operations.\n",
    "\n",
    "- What is recursion?\n",
    "    - Recursion is when a function calls itself to solve a problem, typically used for problems that can be divided into similar sub-problems.\n",
    "\n",
    "<b>Advanced Questions:</b>\n",
    "- Can a function return multiple values?\n",
    "    - Yes, a function can return multiple values as a tuple.\n",
    "\n",
    "- Explain the concept of first-class functions in Python.\n",
    "    - Functions in Python are first-class objects, meaning they can be passed as arguments to other functions, returned from functions, and assigned to variables.\n",
    "\n",
    "- What is a higher-order function?\n",
    "    - A higher-order function is a function that takes another function as an argument or returns a function as a result.\n",
    "\n",
    "- How do decorators work in Python?\n",
    "    - Decorators are functions that modify the behavior of another function. They are used to add functionality to an existing function without changing its structure.\n",
    "\n",
    "- What is the global keyword in Python?\n",
    "    - The global keyword is used to declare that a variable inside a function refers to a global variable.\n",
    "\n",
    "- What is the difference between local, global, and nonlocal variables?\n",
    "    - Local variables are defined inside a function and accessible only within it. Global variables are defined outside any function and are accessible everywhere. Nonlocal variables refer to variables in the nearest enclosing scope that is not global."
   ]
  },
  {
   "cell_type": "code",
   "execution_count": null,
   "id": "6eea7f0e",
   "metadata": {},
   "outputs": [],
   "source": []
  }
 ],
 "metadata": {
  "kernelspec": {
   "display_name": "Python 3 (ipykernel)",
   "language": "python",
   "name": "python3"
  },
  "language_info": {
   "codemirror_mode": {
    "name": "ipython",
    "version": 3
   },
   "file_extension": ".py",
   "mimetype": "text/x-python",
   "name": "python",
   "nbconvert_exporter": "python",
   "pygments_lexer": "ipython3",
   "version": "3.11.5"
  }
 },
 "nbformat": 4,
 "nbformat_minor": 5
}
